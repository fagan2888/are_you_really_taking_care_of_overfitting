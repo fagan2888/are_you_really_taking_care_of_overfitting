{
 "cells": [
  {
   "cell_type": "markdown",
   "metadata": {},
   "source": [
    "# Are You Really Taking Care of Overfitting?"
   ]
  },
  {
   "cell_type": "markdown",
   "metadata": {},
   "source": [
    "Import libraries"
   ]
  },
  {
   "cell_type": "code",
   "execution_count": 1,
   "metadata": {},
   "outputs": [],
   "source": [
    "import numpy as np\n",
    "import pandas as pd\n",
    "from sklearn.model_selection import train_test_split\n",
    "import catboost\n",
    "from sklearn.metrics import average_precision_score\n",
    "import matplotlib.pyplot as plt"
   ]
  },
  {
   "cell_type": "code",
   "execution_count": 2,
   "metadata": {},
   "outputs": [],
   "source": [
    "plt.rcParams['axes.axisbelow'] = True"
   ]
  },
  {
   "cell_type": "markdown",
   "metadata": {},
   "source": [
    "Download data from Kaggle"
   ]
  },
  {
   "cell_type": "code",
   "execution_count": 3,
   "metadata": {},
   "outputs": [],
   "source": [
    "! kaggle datasets download -d mlg-ulb/creditcardfraud"
   ]
  },
  {
   "cell_type": "markdown",
   "metadata": {},
   "source": [
    "Load dataset"
   ]
  },
  {
   "cell_type": "code",
   "execution_count": 4,
   "metadata": {},
   "outputs": [],
   "source": [
    "df = pd.read_csv('mushrooms.csv').sample(frac = 1, random_state = 0)"
   ]
  },
  {
   "cell_type": "markdown",
   "metadata": {},
   "source": [
    "Do train/test split (33%, 67% respectively)"
   ]
  },
  {
   "cell_type": "code",
   "execution_count": 5,
   "metadata": {},
   "outputs": [],
   "source": [
    "x_train, x_test, y_train, y_test = train_test_split(\n",
    "    df.drop('class', axis = 1), \n",
    "    (df['class'] == 'p') * 1, \n",
    "    test_size = .67, \n",
    "    stratify = df['class'],\n",
    "    random_state = 0\n",
    ")"
   ]
  },
  {
   "cell_type": "markdown",
   "metadata": {},
   "source": [
    "Dump row index among x columns"
   ]
  },
  {
   "cell_type": "code",
   "execution_count": 6,
   "metadata": {},
   "outputs": [
    {
     "name": "stdout",
     "output_type": "stream",
     "text": [
      "x_train.shape: (2680, 23)\n",
      "x_test.shape:  (5444, 23)\n"
     ]
    }
   ],
   "source": [
    "x_train = x_train.reset_index(drop = True).reset_index(drop = False)\n",
    "x_test = x_test.reset_index(drop = True).reset_index(drop = False)\n",
    "x_train.columns = ['ROW_INDEX'] + list(x_train.columns[1:])\n",
    "x_test.columns = ['ROW_INDEX'] + list(x_test.columns[1:])\n",
    "print('x_train.shape:', x_train.shape)\n",
    "print('x_test.shape: ', x_test.shape)"
   ]
  },
  {
   "cell_type": "markdown",
   "metadata": {},
   "source": [
    "Set hyperparameters and categorical features.\n",
    "\n",
    "These hyperparameters have been found with the purpose of overfitting as much as possible, that is for demonstration purposes.\n",
    "\n",
    "Of course, if you used Catboost's default hyperparameters, you will have a far better model.\n",
    "\n",
    "However, this was done intentionally to exaggerate the real life situation in which you overfit despite early-stopping."
   ]
  },
  {
   "cell_type": "code",
   "execution_count": 7,
   "metadata": {},
   "outputs": [],
   "source": [
    "hyperparams = {\n",
    "    'loss_function': 'Logloss',\n",
    "    'iterations': 100,\n",
    "    'bagging_temperature': 373.03746280450906,\n",
    "    'border_count': 6646.0,\n",
    "    'l2_leaf_reg': 2161.2073213839294,\n",
    "    'learning_rate': 0.752111526018494,\n",
    "    'max_depth': 7.0,\n",
    "    'min_data_in_leaf': 681.0,\n",
    "    'model_size_reg': 6.496948932044811,\n",
    "    'random_strength': 2191.2170647992484,\n",
    "    'rsm': 0.9584220297555596,\n",
    "    'class_weights': [1, 881.7037892757262]\n",
    "}\n",
    "\n",
    "cat_features = list(range(1, len(x_train.columns)))"
   ]
  },
  {
   "cell_type": "markdown",
   "metadata": {},
   "source": [
    "Run CatBoost"
   ]
  },
  {
   "cell_type": "code",
   "execution_count": 8,
   "metadata": {},
   "outputs": [
    {
     "name": "stdout",
     "output_type": "stream",
     "text": [
      "0:\tlearn: 0.3239845\ttest: 0.4526990\tbest: 0.4526990 (0)\ttotal: 55ms\tremaining: 5.45s\n",
      "1:\tlearn: 0.1155477\ttest: 0.1676479\tbest: 0.1676479 (1)\ttotal: 57.8ms\tremaining: 2.83s\n",
      "2:\tlearn: 0.1064180\ttest: 0.1567212\tbest: 0.1567212 (2)\ttotal: 66.5ms\tremaining: 2.15s\n",
      "3:\tlearn: 0.0624951\ttest: 0.0919802\tbest: 0.0919802 (3)\ttotal: 71.2ms\tremaining: 1.71s\n",
      "4:\tlearn: 0.0512691\ttest: 0.0751309\tbest: 0.0751309 (4)\ttotal: 74.5ms\tremaining: 1.42s\n",
      "5:\tlearn: 0.0436477\ttest: 0.0636197\tbest: 0.0636197 (5)\ttotal: 79.5ms\tremaining: 1.25s\n",
      "6:\tlearn: 0.0381683\ttest: 0.0553029\tbest: 0.0553029 (6)\ttotal: 82.8ms\tremaining: 1.1s\n",
      "7:\tlearn: 0.0310562\ttest: 0.0444546\tbest: 0.0444546 (7)\ttotal: 85.7ms\tremaining: 985ms\n",
      "8:\tlearn: 0.0298358\ttest: 0.0428165\tbest: 0.0428165 (8)\ttotal: 93.6ms\tremaining: 946ms\n",
      "9:\tlearn: 0.0284332\ttest: 0.0418612\tbest: 0.0418612 (9)\ttotal: 98.5ms\tremaining: 887ms\n",
      "10:\tlearn: 0.0263148\ttest: 0.0384637\tbest: 0.0384637 (10)\ttotal: 104ms\tremaining: 842ms\n",
      "11:\tlearn: 0.0232095\ttest: 0.0334741\tbest: 0.0334741 (11)\ttotal: 107ms\tremaining: 782ms\n",
      "12:\tlearn: 0.0219676\ttest: 0.0314681\tbest: 0.0314681 (12)\ttotal: 110ms\tremaining: 733ms\n",
      "13:\tlearn: 0.0214732\ttest: 0.0304691\tbest: 0.0304691 (13)\ttotal: 114ms\tremaining: 703ms\n",
      "14:\tlearn: 0.0205375\ttest: 0.0287807\tbest: 0.0287807 (14)\ttotal: 118ms\tremaining: 671ms\n",
      "15:\tlearn: 0.0196289\ttest: 0.0274354\tbest: 0.0274354 (15)\ttotal: 122ms\tremaining: 639ms\n",
      "16:\tlearn: 0.0188616\ttest: 0.0261989\tbest: 0.0261989 (16)\ttotal: 125ms\tremaining: 609ms\n",
      "17:\tlearn: 0.0184301\ttest: 0.0255241\tbest: 0.0255241 (17)\ttotal: 131ms\tremaining: 598ms\n",
      "18:\tlearn: 0.0182188\ttest: 0.0251940\tbest: 0.0251940 (18)\ttotal: 138ms\tremaining: 590ms\n",
      "19:\tlearn: 0.0180900\ttest: 0.0249458\tbest: 0.0249458 (19)\ttotal: 150ms\tremaining: 599ms\n",
      "20:\tlearn: 0.0169744\ttest: 0.0231413\tbest: 0.0231413 (20)\ttotal: 153ms\tremaining: 574ms\n",
      "21:\tlearn: 0.0168465\ttest: 0.0229351\tbest: 0.0229351 (21)\ttotal: 159ms\tremaining: 563ms\n",
      "22:\tlearn: 0.0163719\ttest: 0.0221648\tbest: 0.0221648 (22)\ttotal: 162ms\tremaining: 542ms\n",
      "23:\tlearn: 0.0162086\ttest: 0.0219077\tbest: 0.0219077 (23)\ttotal: 170ms\tremaining: 539ms\n",
      "24:\tlearn: 0.0154311\ttest: 0.0206399\tbest: 0.0206399 (24)\ttotal: 173ms\tremaining: 518ms\n",
      "25:\tlearn: 0.0150842\ttest: 0.0200729\tbest: 0.0200729 (25)\ttotal: 176ms\tremaining: 501ms\n",
      "26:\tlearn: 0.0150129\ttest: 0.0199323\tbest: 0.0199323 (26)\ttotal: 184ms\tremaining: 499ms\n",
      "27:\tlearn: 0.0148491\ttest: 0.0196615\tbest: 0.0196615 (27)\ttotal: 197ms\tremaining: 507ms\n",
      "28:\tlearn: 0.0147948\ttest: 0.0195743\tbest: 0.0195743 (28)\ttotal: 209ms\tremaining: 512ms\n",
      "29:\tlearn: 0.0146336\ttest: 0.0193348\tbest: 0.0193348 (29)\ttotal: 215ms\tremaining: 502ms\n",
      "30:\tlearn: 0.0144826\ttest: 0.0190848\tbest: 0.0190848 (30)\ttotal: 222ms\tremaining: 493ms\n",
      "31:\tlearn: 0.0143382\ttest: 0.0188524\tbest: 0.0188524 (31)\ttotal: 228ms\tremaining: 484ms\n",
      "32:\tlearn: 0.0142026\ttest: 0.0186259\tbest: 0.0186259 (32)\ttotal: 236ms\tremaining: 478ms\n",
      "33:\tlearn: 0.0140724\ttest: 0.0184097\tbest: 0.0184097 (33)\ttotal: 247ms\tremaining: 480ms\n",
      "34:\tlearn: 0.0139435\ttest: 0.0183471\tbest: 0.0183471 (34)\ttotal: 259ms\tremaining: 480ms\n",
      "35:\tlearn: 0.0138224\ttest: 0.0182876\tbest: 0.0182876 (35)\ttotal: 269ms\tremaining: 478ms\n",
      "36:\tlearn: 0.0137028\ttest: 0.0182295\tbest: 0.0182295 (36)\ttotal: 278ms\tremaining: 473ms\n",
      "37:\tlearn: 0.0135873\ttest: 0.0181734\tbest: 0.0181734 (37)\ttotal: 288ms\tremaining: 470ms\n",
      "38:\tlearn: 0.0134787\ttest: 0.0181200\tbest: 0.0181200 (38)\ttotal: 298ms\tremaining: 466ms\n",
      "39:\tlearn: 0.0133717\ttest: 0.0180678\tbest: 0.0180678 (39)\ttotal: 310ms\tremaining: 465ms\n",
      "40:\tlearn: 0.0132675\ttest: 0.0178840\tbest: 0.0178840 (40)\ttotal: 318ms\tremaining: 458ms\n",
      "41:\tlearn: 0.0131670\ttest: 0.0178352\tbest: 0.0178352 (41)\ttotal: 329ms\tremaining: 454ms\n",
      "42:\tlearn: 0.0130698\ttest: 0.0177880\tbest: 0.0177880 (42)\ttotal: 339ms\tremaining: 449ms\n",
      "43:\tlearn: 0.0130210\ttest: 0.0177055\tbest: 0.0177055 (43)\ttotal: 349ms\tremaining: 444ms\n",
      "44:\tlearn: 0.0129807\ttest: 0.0176350\tbest: 0.0176350 (44)\ttotal: 359ms\tremaining: 439ms\n",
      "45:\tlearn: 0.0129234\ttest: 0.0175394\tbest: 0.0175394 (45)\ttotal: 369ms\tremaining: 434ms\n",
      "46:\tlearn: 0.0128610\ttest: 0.0174343\tbest: 0.0174343 (46)\ttotal: 379ms\tremaining: 428ms\n",
      "47:\tlearn: 0.0128058\ttest: 0.0173423\tbest: 0.0173423 (47)\ttotal: 389ms\tremaining: 422ms\n",
      "48:\tlearn: 0.0127680\ttest: 0.0172764\tbest: 0.0172764 (48)\ttotal: 400ms\tremaining: 416ms\n",
      "49:\tlearn: 0.0127307\ttest: 0.0172113\tbest: 0.0172113 (49)\ttotal: 410ms\tremaining: 410ms\n",
      "50:\tlearn: 0.0126865\ttest: 0.0171368\tbest: 0.0171368 (50)\ttotal: 420ms\tremaining: 403ms\n",
      "51:\tlearn: 0.0126429\ttest: 0.0170635\tbest: 0.0170635 (51)\ttotal: 430ms\tremaining: 396ms\n",
      "52:\tlearn: 0.0125915\ttest: 0.0169776\tbest: 0.0169776 (52)\ttotal: 440ms\tremaining: 390ms\n",
      "53:\tlearn: 0.0125407\ttest: 0.0168930\tbest: 0.0168930 (53)\ttotal: 449ms\tremaining: 383ms\n",
      "54:\tlearn: 0.0124912\ttest: 0.0168101\tbest: 0.0168101 (54)\ttotal: 460ms\tremaining: 376ms\n",
      "55:\tlearn: 0.0124422\ttest: 0.0167283\tbest: 0.0167283 (55)\ttotal: 469ms\tremaining: 369ms\n",
      "56:\tlearn: 0.0123937\ttest: 0.0166478\tbest: 0.0166478 (56)\ttotal: 479ms\tremaining: 362ms\n",
      "57:\tlearn: 0.0123469\ttest: 0.0165692\tbest: 0.0165692 (57)\ttotal: 489ms\tremaining: 354ms\n",
      "58:\tlearn: 0.0123004\ttest: 0.0164916\tbest: 0.0164916 (58)\ttotal: 499ms\tremaining: 347ms\n",
      "59:\tlearn: 0.0122617\ttest: 0.0164268\tbest: 0.0164268 (59)\ttotal: 509ms\tremaining: 339ms\n",
      "60:\tlearn: 0.0122163\ttest: 0.0163511\tbest: 0.0163511 (60)\ttotal: 519ms\tremaining: 332ms\n",
      "61:\tlearn: 0.0121716\ttest: 0.0162767\tbest: 0.0162767 (61)\ttotal: 529ms\tremaining: 324ms\n",
      "62:\tlearn: 0.0121344\ttest: 0.0162146\tbest: 0.0162146 (62)\ttotal: 539ms\tremaining: 316ms\n",
      "63:\tlearn: 0.0120911\ttest: 0.0161424\tbest: 0.0161424 (63)\ttotal: 549ms\tremaining: 309ms\n",
      "64:\tlearn: 0.0120549\ttest: 0.0160820\tbest: 0.0160820 (64)\ttotal: 558ms\tremaining: 301ms\n",
      "65:\tlearn: 0.0120128\ttest: 0.0160082\tbest: 0.0160082 (65)\ttotal: 568ms\tremaining: 293ms\n",
      "66:\tlearn: 0.0119666\ttest: 0.0159299\tbest: 0.0159299 (66)\ttotal: 578ms\tremaining: 285ms\n",
      "67:\tlearn: 0.0119318\ttest: 0.0158719\tbest: 0.0158719 (67)\ttotal: 590ms\tremaining: 278ms\n",
      "68:\tlearn: 0.0118911\ttest: 0.0158043\tbest: 0.0158043 (68)\ttotal: 599ms\tremaining: 269ms\n",
      "69:\tlearn: 0.0118448\ttest: 0.0157818\tbest: 0.0157818 (69)\ttotal: 610ms\tremaining: 261ms\n",
      "70:\tlearn: 0.0118011\ttest: 0.0157074\tbest: 0.0157074 (70)\ttotal: 621ms\tremaining: 254ms\n",
      "71:\tlearn: 0.0117582\ttest: 0.0156861\tbest: 0.0156861 (71)\ttotal: 631ms\tremaining: 245ms\n",
      "72:\tlearn: 0.0117153\ttest: 0.0156131\tbest: 0.0156131 (72)\ttotal: 641ms\tremaining: 237ms\n",
      "73:\tlearn: 0.0116720\ttest: 0.0155404\tbest: 0.0155404 (73)\ttotal: 651ms\tremaining: 229ms\n",
      "74:\tlearn: 0.0116293\ttest: 0.0154688\tbest: 0.0154688 (74)\ttotal: 661ms\tremaining: 220ms\n",
      "75:\tlearn: 0.0115873\ttest: 0.0153983\tbest: 0.0153983 (75)\ttotal: 670ms\tremaining: 211ms\n",
      "76:\tlearn: 0.0115115\ttest: 0.0153603\tbest: 0.0153603 (76)\ttotal: 680ms\tremaining: 203ms\n",
      "77:\tlearn: 0.0114732\ttest: 0.0152939\tbest: 0.0152939 (77)\ttotal: 690ms\tremaining: 195ms\n",
      "78:\tlearn: 0.0114384\ttest: 0.0152348\tbest: 0.0152348 (78)\ttotal: 701ms\tremaining: 186ms\n",
      "79:\tlearn: 0.0114007\ttest: 0.0151695\tbest: 0.0151695 (79)\ttotal: 711ms\tremaining: 178ms\n",
      "80:\tlearn: 0.0113719\ttest: 0.0151209\tbest: 0.0151209 (80)\ttotal: 721ms\tremaining: 169ms\n",
      "81:\tlearn: 0.0112998\ttest: 0.0150852\tbest: 0.0150852 (81)\ttotal: 727ms\tremaining: 160ms\n",
      "82:\tlearn: 0.0112640\ttest: 0.0150226\tbest: 0.0150226 (82)\ttotal: 737ms\tremaining: 151ms\n",
      "83:\tlearn: 0.0112291\ttest: 0.0149614\tbest: 0.0149614 (83)\ttotal: 747ms\tremaining: 142ms\n",
      "84:\tlearn: 0.0111943\ttest: 0.0149005\tbest: 0.0149005 (84)\ttotal: 757ms\tremaining: 134ms\n",
      "85:\tlearn: 0.0111594\ttest: 0.0148401\tbest: 0.0148401 (85)\ttotal: 767ms\tremaining: 125ms\n",
      "86:\tlearn: 0.0111255\ttest: 0.0148232\tbest: 0.0148232 (86)\ttotal: 777ms\tremaining: 116ms\n",
      "87:\tlearn: 0.0110907\ttest: 0.0147633\tbest: 0.0147633 (87)\ttotal: 787ms\tremaining: 107ms\n",
      "88:\tlearn: 0.0110612\ttest: 0.0147120\tbest: 0.0147120 (88)\ttotal: 797ms\tremaining: 98.5ms\n",
      "89:\tlearn: 0.0110269\ttest: 0.0146535\tbest: 0.0146535 (89)\ttotal: 808ms\tremaining: 89.7ms\n",
      "90:\tlearn: 0.0109951\ttest: 0.0145974\tbest: 0.0145974 (90)\ttotal: 818ms\tremaining: 80.9ms\n",
      "91:\tlearn: 0.0109634\ttest: 0.0145416\tbest: 0.0145416 (91)\ttotal: 828ms\tremaining: 72ms\n",
      "92:\tlearn: 0.0109345\ttest: 0.0144922\tbest: 0.0144922 (92)\ttotal: 839ms\tremaining: 63.1ms\n",
      "93:\tlearn: 0.0109019\ttest: 0.0144365\tbest: 0.0144365 (93)\ttotal: 849ms\tremaining: 54.2ms\n",
      "94:\tlearn: 0.0108722\ttest: 0.0143852\tbest: 0.0143852 (94)\ttotal: 859ms\tremaining: 45.2ms\n",
      "95:\tlearn: 0.0108408\ttest: 0.0143311\tbest: 0.0143311 (95)\ttotal: 868ms\tremaining: 36.2ms\n",
      "96:\tlearn: 0.0108110\ttest: 0.0143163\tbest: 0.0143163 (96)\ttotal: 878ms\tremaining: 27.2ms\n",
      "97:\tlearn: 0.0107815\ttest: 0.0143016\tbest: 0.0143016 (97)\ttotal: 889ms\tremaining: 18.1ms\n",
      "98:\tlearn: 0.0107527\ttest: 0.0142504\tbest: 0.0142504 (98)\ttotal: 899ms\tremaining: 9.08ms\n",
      "99:\tlearn: 0.0107240\ttest: 0.0141994\tbest: 0.0141994 (99)\ttotal: 909ms\tremaining: 0us\n",
      "\n",
      "bestTest = 0.01419943091\n",
      "bestIteration = 99\n",
      "\n"
     ]
    }
   ],
   "source": [
    "clf = catboost.CatBoostClassifier(**hyperparams)\n",
    "clf_fitted = clf.fit(X = x_train, y = y_train,\n",
    "                     eval_set = (x_test, y_test),\n",
    "                     cat_features = cat_features,\n",
    "                     early_stopping_rounds = 10)"
   ]
  },
  {
   "cell_type": "markdown",
   "metadata": {},
   "source": [
    "Calculate probabilities and performance (average precision) on training and test"
   ]
  },
  {
   "cell_type": "code",
   "execution_count": 9,
   "metadata": {},
   "outputs": [],
   "source": [
    "proba_train = clf_fitted.predict_proba(x_train)[:,1]\n",
    "proba_test = clf_fitted.predict_proba(x_test)[:,1]\n",
    "ap_train = average_precision_score(y_train, proba_train)\n",
    "ap_test = average_precision_score(y_test, proba_test)"
   ]
  },
  {
   "cell_type": "code",
   "execution_count": 10,
   "metadata": {},
   "outputs": [
    {
     "name": "stdout",
     "output_type": "stream",
     "text": [
      "0.9377634045723214 0.7868095131406349\n"
     ]
    }
   ],
   "source": [
    "print(ap_train, ap_test)"
   ]
  },
  {
   "cell_type": "markdown",
   "metadata": {},
   "source": [
    "Store performance on train and test at each iteration"
   ]
  },
  {
   "cell_type": "code",
   "execution_count": 11,
   "metadata": {},
   "outputs": [],
   "source": [
    "ap_train_iter, ap_test_iter = [], []\n",
    "for iteration in range(hyperparams['iterations']):\n",
    "    clf = catboost.CatBoostClassifier(**hyperparams)\n",
    "    clf.set_params(iterations = 1)\n",
    "    clf_fitted = clf.fit(X = x_train, y = y_train,\n",
    "                         eval_set = (x_test, y_test),\n",
    "                         cat_features = cat_features,\n",
    "                         early_stopping_rounds = 10, \n",
    "                         init_model = clf_fitted if iteration > 0 else None,\n",
    "                         silent = True)\n",
    "    proba_train = clf_fitted.predict_proba(x_train)[:,1]\n",
    "    proba_test = clf_fitted.predict_proba(x_test)[:,1]\n",
    "    ap_train = average_precision_score(y_train, proba_train)\n",
    "    ap_test = average_precision_score(y_test, proba_test)\n",
    "    ap_train_iter.append(ap_train)\n",
    "    ap_test_iter.append(ap_test)"
   ]
  },
  {
   "cell_type": "markdown",
   "metadata": {},
   "source": [
    "Plot performance on training and test set at each iteration"
   ]
  },
  {
   "cell_type": "code",
   "execution_count": 12,
   "metadata": {},
   "outputs": [
    {
     "data": {
      "image/png": "[encoded data removed]",
      "text/plain": [
       "<Figure size 432x288 with 1 Axes>"
      ]
     },
     "metadata": {
      "needs_background": "light"
     },
     "output_type": "display_data"
    }
   ],
   "source": [
    "plt.plot(range(len(ap_train_iter)), ap_train_iter, label = 'training set', lw = 3, color = 'blue')\n",
    "plt.plot(range(len(ap_test_iter)), ap_test_iter, label = 'test set', lw = 3, color = 'red')\n",
    "plt.ylim(.45, 1.05)\n",
    "plt.ylabel('average precision', fontsize = 14)\n",
    "plt.xlabel('iteration', fontsize = 14)\n",
    "plt.yticks(np.arange(.5, 1.1, .1), [('{}'.format(number) + '%') for number in range(50, 110, 10)])\n",
    "plt.xticks(fontsize = 14)\n",
    "plt.grid()\n",
    "plt.legend(fontsize = 14, loc = 'upper left');"
   ]
  },
  {
   "cell_type": "markdown",
   "metadata": {},
   "source": [
    "Show feature importances"
   ]
  },
  {
   "cell_type": "code",
   "execution_count": 13,
   "metadata": {},
   "outputs": [
    {
     "data": {
      "text/plain": [
       "ROW_INDEX                   86.92%\n",
       "gill-size                    8.61%\n",
       "stalk-shape                  1.64%\n",
       "stalk-surface-below-ring     1.15%\n",
       "bruises                      0.62%\n",
       "gill-spacing                 0.61%\n",
       "cap-surface                  0.29%\n",
       "gill-attachment              0.16%\n",
       "dtype: object"
      ]
     },
     "execution_count": 13,
     "metadata": {},
     "output_type": "execute_result"
    }
   ],
   "source": [
    "pd.Series(clf.feature_importances_, index = clf.feature_names_).sort_values(ascending = False).apply(lambda number: str(round(number,2)) + '%').head(8)"
   ]
  }
 ],
 "metadata": {
  "kernelspec": {
   "display_name": "Python 3.6 - bda_mck",
   "language": "python",
   "name": "bda_mck"
  },
  "language_info": {
   "codemirror_mode": {
    "name": "ipython",
    "version": 3
   },
   "file_extension": ".py",
   "mimetype": "text/x-python",
   "name": "python",
   "nbconvert_exporter": "python",
   "pygments_lexer": "ipython3",
   "version": "3.6.10"
  }
 },
 "nbformat": 4,
 "nbformat_minor": 4
}
